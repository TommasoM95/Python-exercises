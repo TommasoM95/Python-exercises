{
  "nbformat": 4,
  "nbformat_minor": 0,
  "metadata": {
    "colab": {
      "provenance": []
    },
    "kernelspec": {
      "name": "python3",
      "display_name": "Python 3"
    },
    "language_info": {
      "name": "python"
    }
  },
  "cells": [
    {
      "cell_type": "code",
      "execution_count": null,
      "metadata": {
        "colab": {
          "base_uri": "https://localhost:8080/",
          "height": 262
        },
        "id": "_3ImhG4JYXFN",
        "outputId": "d728943e-9533-4ddd-e124-8876c4c76508"
      },
      "outputs": [
        {
          "output_type": "error",
          "ename": "TypeError",
          "evalue": "ignored",
          "traceback": [
            "\u001b[0;31m---------------------------------------------------------------------------\u001b[0m",
            "\u001b[0;31mTypeError\u001b[0m                                 Traceback (most recent call last)",
            "\u001b[0;32m<ipython-input-1-29628bfb5490>\u001b[0m in \u001b[0;36m<module>\u001b[0;34m\u001b[0m\n\u001b[1;32m     81\u001b[0m \u001b[0;34m\u001b[0m\u001b[0m\n\u001b[1;32m     82\u001b[0m \u001b[0;31m# Creiamo delle istanze dalle classi Studente e Insegnate che ereditano dalla classe Persona\u001b[0m\u001b[0;34m\u001b[0m\u001b[0;34m\u001b[0m\u001b[0m\n\u001b[0;32m---> 83\u001b[0;31m \u001b[0mstudente_uno\u001b[0m \u001b[0;34m=\u001b[0m \u001b[0mStudente\u001b[0m\u001b[0;34m(\u001b[0m\u001b[0;34m\"Py\"\u001b[0m\u001b[0;34m,\u001b[0m \u001b[0;34m\"Mike\"\u001b[0m\u001b[0;34m,\u001b[0m \u001b[0;36m24\u001b[0m\u001b[0;34m,\u001b[0m \u001b[0;34m\"Casa Dello Studente\"\u001b[0m\u001b[0;34m)\u001b[0m\u001b[0;34m\u001b[0m\u001b[0;34m\u001b[0m\u001b[0m\n\u001b[0m\u001b[1;32m     84\u001b[0m \u001b[0minsegnante_uno\u001b[0m \u001b[0;34m=\u001b[0m \u001b[0mInsegnante\u001b[0m\u001b[0;34m(\u001b[0m\u001b[0;34m\"Mario\"\u001b[0m\u001b[0;34m,\u001b[0m \u001b[0;34m\"Rossi\"\u001b[0m\u001b[0;34m,\u001b[0m \u001b[0;36m33\u001b[0m\u001b[0;34m,\u001b[0m \u001b[0;34m\"Viale Roma 32\"\u001b[0m\u001b[0;34m)\u001b[0m\u001b[0;34m\u001b[0m\u001b[0;34m\u001b[0m\u001b[0m\n\u001b[1;32m     85\u001b[0m \u001b[0;34m\u001b[0m\u001b[0m\n",
            "\u001b[0;31mTypeError\u001b[0m: __init__() missing 1 required positional argument: 'corso_di_studio'"
          ]
        }
      ],
      "source": [
        "#----------------------------------------\n",
        "#                 Corso Python\n",
        "#              Classi e ereditarietà\n",
        "#----------------------------------------\n",
        "\n",
        "class Persona:\n",
        "\n",
        "    def __init__(self, nome, cognome, eta, residenza):      # Costruttore, inizializza la classe con gli attributi\n",
        "        self.nome = nome\n",
        "        self.cognome = cognome\n",
        "        self.eta = eta\n",
        "        self.residenza = residenza\n",
        "\n",
        "    def scheda_personale(self):                             # Metodo che stampa gli attributi dell'istanza\n",
        "        scheda = f\"\"\"\n",
        "        Nome: {self.nome}\n",
        "        Cognome: {self.cognome}\n",
        "        Età: {self.età}\n",
        "        Residenza: {self.residenza}\\n\"\"\"\n",
        "        return scheda\n",
        "\n",
        "    def modifica_scheda(self):\n",
        "        print(\"\"\"Modifica Scheda:\n",
        "        1 - Nome\n",
        "        2 - Cognome\n",
        "        3 - Età\n",
        "        4 - Residenza\"\"\")\n",
        "        scelta = input(\"Cosa Desideri modificare?\")\n",
        "        if scelta == \"1\":\n",
        "            self.nome = input(\"Nuovo Nome--> \")\n",
        "        elif scelta == \"2\":\n",
        "            self. cognome = input(\"Nuovo Cognome --> \")\n",
        "        elif scelta == \"3\":\n",
        "            self.eta = int(input(\"Nuova età --> \"))\n",
        "        elif scelta == \"4\":\n",
        "            self.residenza = input(\"Nuova Residenza --> \")\n",
        "\n",
        "class Studente(Persona):\n",
        "    profilo = \"Studente\"\n",
        "\n",
        "    def __init__(self,nome, cognome, eta, residenza, corso_di_studio):\n",
        "        super().__init__(nome, cognome, eta, residenza)\n",
        "        self.corso_di_studio = corso_di_studio\n",
        "\n",
        "    def scheda_personale(self):\n",
        "        scheda = print(\"\"\"\n",
        "        Profilo:{Studente.profilo}\n",
        "        Corso di Studi:{self.corso_di_studio}\n",
        "        ***\"\"\")\n",
        "        return super().scheda_personale() + scheda\n",
        "\n",
        "    def cambio_corso(self,corso):\n",
        "        self.corso_di_studio = corso\n",
        "        print(\"Corso Aggiornato\")\n",
        "\n",
        "class Insegnante(Persona):\n",
        "    profilo = \"Insegnante\"\n",
        "\n",
        "    def __init__(self,nome, cognome, eta, residenza, materie=None):\n",
        "        super().__init__(nome, cognome, eta, residenza)\n",
        "        if materie is None:\n",
        "            self.materie = []\n",
        "        else:\n",
        "            self.materie = materie\n",
        "\n",
        "    def scheda_personale(self):\n",
        "        scheda = f\"\"\"\n",
        "        Profilo:{Insegnante.profilo}\n",
        "        Materie Insegnate:{self.materie}\n",
        "        ***\"\"\"\n",
        "        return super().scheda_personale() + scheda\n",
        "\n",
        "    def aggiungi_materia(self,nuova):\n",
        "        if nuova not in self.materie:\n",
        "            self.materie.append(nuova)\n",
        "        print(\"Elenco Aggiornato\")\n",
        "\n",
        "#------------------------------------------------------\n",
        "#       Code Test\n",
        "#------------------------------------------------------\n",
        "\n",
        "# Creiamo delle istanze dalle classi Studente e Insegnate che ereditano dalla classe Persona\n",
        "studente_uno = Studente(\"Py\", \"Mike\", 24, \"Casa Dello Studente\")\n",
        "insegnante_uno = Insegnante(\"Mario\", \"Rossi\", 33, \"Viale Roma 32\")\n",
        "\n",
        "\n",
        "print(studente_uno.scheda_personale())\n",
        "print(insegnante_uno.scheda_personale())"
      ]
    }
  ]
}